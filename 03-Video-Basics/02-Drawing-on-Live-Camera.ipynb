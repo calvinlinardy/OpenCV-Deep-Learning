{
 "cells": [
  {
   "cell_type": "code",
   "execution_count": 1,
   "metadata": {},
   "outputs": [
    {
     "ename": "",
     "evalue": "",
     "output_type": "error",
     "traceback": [
      "\u001b[1;31mThe Kernel crashed while executing code in the the current cell or a previous cell. Please review the code in the cell(s) to identify a possible cause of the failure. Click <a href='https://aka.ms/vscodeJupyterKernelCrash'>here</a> for more info. View Jupyter <a href='command:jupyter.viewOutput'>log</a> for further details."
     ]
    }
   ],
   "source": [
    "import cv2\n",
    "\n",
    "cap = cv2.VideoCapture(0)\n",
    "\n",
    "width = int(cap.get(cv2.CAP_PROP_FRAME_WIDTH))\n",
    "height = int(cap.get(cv2.CAP_PROP_FRAME_HEIGHT))\n",
    "\n",
    "# pake // jangan / buat bagi\n",
    "# soalnya buat pastiin hasilnya int, kadang hasilnya float bisa error\n",
    "# 10 / 5 = 2.0\n",
    "# 10 // 5 = 2\n",
    "\n",
    "# kita mau gambar rectangle di frame nya\n",
    "# kita tentuin top left cornernya buat rectangle\n",
    "# kita putusin taro top left nya di halfnya\n",
    "x = width//2\n",
    "y = height//2\n",
    "\n",
    "# skrg width sama height rectanglenya mau sbrp gede\n",
    "# kita mau ukurannya 1/4 tapi width height\n",
    "w = width//4\n",
    "h = height//4\n",
    "\n",
    "# berarti nanti yang di masukin ke paramnya itu bottom rightnya\n",
    "# x+w,y+h\n",
    "\n",
    "while True:\n",
    "\n",
    "    ret,frame = cap.read()\n",
    "\n",
    "    # gambar rectanglenya dulu baru show frame\n",
    "    cv2.rectangle(frame,(x,y),(x+w,y+h),color=(255,255,0),thickness=4)\n",
    "\n",
    "    cv2.imshow('frame',frame)\n",
    "\n",
    "    if cv2.waitKey(1) & 0xFF == ord('q'):\n",
    "        break\n",
    "\n",
    "cap.release()\n",
    "cv2.destroyAllWindows()"
   ]
  },
  {
   "cell_type": "code",
   "execution_count": null,
   "metadata": {},
   "outputs": [],
   "source": []
  }
 ],
 "metadata": {
  "kernelspec": {
   "display_name": "Python 3.9.7",
   "language": "python",
   "name": "python3"
  },
  "language_info": {
   "codemirror_mode": {
    "name": "ipython",
    "version": 3
   },
   "file_extension": ".py",
   "mimetype": "text/x-python",
   "name": "python",
   "nbconvert_exporter": "python",
   "pygments_lexer": "ipython3",
   "version": "3.9.7"
  },
  "orig_nbformat": 4,
  "vscode": {
   "interpreter": {
    "hash": "de0342d22f59080f5a2b049921cc024b05bf53d7a856e2b4ddc8580cbc73f413"
   }
  }
 },
 "nbformat": 4,
 "nbformat_minor": 2
}
