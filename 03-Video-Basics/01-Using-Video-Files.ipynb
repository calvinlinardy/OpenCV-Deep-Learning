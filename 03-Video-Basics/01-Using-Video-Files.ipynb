{
 "cells": [
  {
   "cell_type": "code",
   "execution_count": 1,
   "metadata": {},
   "outputs": [],
   "source": [
    "# RUN SEMUA DALAM 1 CELL!!"
   ]
  },
  {
   "cell_type": "code",
   "execution_count": 1,
   "metadata": {},
   "outputs": [
    {
     "ename": "",
     "evalue": "",
     "output_type": "error",
     "traceback": [
      "\u001b[1;31mThe Kernel crashed while executing code in the the current cell or a previous cell. Please review the code in the cell(s) to identify a possible cause of the failure. Click <a href='https://aka.ms/vscodeJupyterKernelCrash'>here</a> for more info. View Jupyter <a href='command:jupyter.viewOutput'>log</a> for further details."
     ]
    }
   ],
   "source": [
    "import cv2\n",
    "\n",
    "# kalo kita mau access kamera kan 0\n",
    "# ini kita masukin path videonya\n",
    "cap = cv2.VideoCapture('video.mp4')\n",
    "\n",
    "# ini buat ngecek kalo videonya bisa ke read ato ga\n",
    "# kalo ga bisa ke read cek file path\n",
    "# ato ga check codec formatnya\n",
    "if cap.isOpened() == False:\n",
    "    print('Error opening the video file. Please double check video path or codec.')\n",
    "\n",
    "# while videonya opened\n",
    "while cap.isOpened():\n",
    "\n",
    "    # Read file videonya\n",
    "    ret,frame = cap.read()\n",
    "\n",
    "    # If we got frames, show them\n",
    "    if ret == True:\n",
    "\n",
    "        cv2.imshow('frame',frame)\n",
    "\n",
    "        if cv2.waitKey(25) & 0xFF == ord('q'):\n",
    "            break\n",
    "    \n",
    "    # harus pake else ini\n",
    "    # kan if ret == True berarti kalo ada frame\n",
    "    # else nya buat kalo udah ga ada frame\n",
    "    # alias kalo videonya udah abis, break\n",
    "    else:\n",
    "        break\n",
    "\n",
    "cap.release()\n",
    "cv2.destroyAllWindows()"
   ]
  },
  {
   "cell_type": "code",
   "execution_count": 1,
   "metadata": {},
   "outputs": [],
   "source": [
    "# cuma cara di atas ga pake fps\n",
    "# kadang videonya bisa cepet bgt\n",
    "# soalnya dia ngeplay videonya buat komputer\n",
    "# bukan buat mata manusia\n",
    "# jadi biar aman kita tambahin fps play nya"
   ]
  },
  {
   "cell_type": "code",
   "execution_count": 2,
   "metadata": {},
   "outputs": [],
   "source": [
    "# tinggal tambahin module time"
   ]
  },
  {
   "cell_type": "code",
   "execution_count": 3,
   "metadata": {},
   "outputs": [
    {
     "ename": "",
     "evalue": "",
     "output_type": "error",
     "traceback": [
      "\u001b[1;31mThe Kernel crashed while executing code in the the current cell or a previous cell. Please review the code in the cell(s) to identify a possible cause of the failure. Click <a href='https://aka.ms/vscodeJupyterKernelCrash'>here</a> for more info. View Jupyter <a href='command:jupyter.viewOutput'>log</a> for further details."
     ]
    }
   ],
   "source": [
    "import cv2\n",
    "import time\n",
    "\n",
    "cap = cv2.VideoCapture('video.mp4')\n",
    "\n",
    "# kita harus tau videonya brp fps\n",
    "# kan kita set 25\n",
    "fps = 25\n",
    "\n",
    "if cap.isOpened() == False:\n",
    "    print('Error opening the video file. Please double check video path or codec.')\n",
    "\n",
    "while cap.isOpened():\n",
    "\n",
    "    ret,frame = cap.read()\n",
    "\n",
    "    if ret == True:\n",
    "\n",
    "        # disini kita pake time.sleep\n",
    "        # buat ngedelay play videonya\n",
    "\n",
    "        # berarti dia bakal play videonya delay lebih lambat 1/25 detik\n",
    "        time.sleep(1/fps)\n",
    "        cv2.imshow('frame',frame)\n",
    "\n",
    "        if cv2.waitKey(25) & 0xFF == ord('q'):\n",
    "            break\n",
    "    \n",
    "    else:\n",
    "        break\n",
    "\n",
    "cap.release()\n",
    "cv2.destroyAllWindows()"
   ]
  },
  {
   "cell_type": "markdown",
   "metadata": {},
   "source": [
    "cara di atas pake fps malah kalo di mac videonya jadi slowmo, jadi test2 aja, kalo tanpa pake time.sleep udah normal gausa pake fps"
   ]
  },
  {
   "cell_type": "markdown",
   "metadata": {},
   "source": []
  }
 ],
 "metadata": {
  "kernelspec": {
   "display_name": "Python 3.9.10 ('tf-arm64')",
   "language": "python",
   "name": "python3"
  },
  "language_info": {
   "codemirror_mode": {
    "name": "ipython",
    "version": 3
   },
   "file_extension": ".py",
   "mimetype": "text/x-python",
   "name": "python",
   "nbconvert_exporter": "python",
   "pygments_lexer": "ipython3",
   "version": "3.9.10"
  },
  "orig_nbformat": 4,
  "vscode": {
   "interpreter": {
    "hash": "16bca31daaced193c135b83770b57e12c3e358c964886d5c9e7eccec4faab06d"
   }
  }
 },
 "nbformat": 4,
 "nbformat_minor": 2
}
